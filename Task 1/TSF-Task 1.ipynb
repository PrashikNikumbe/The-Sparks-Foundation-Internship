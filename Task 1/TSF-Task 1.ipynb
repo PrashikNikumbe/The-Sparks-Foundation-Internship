## The Sparks Foundation
## Intern Name : Prashik Nikumbe
## Data Science and Business Analytics
## Task 1 : Prediction using Supervised Learning
## Dataset : http://bit.ly/w-data
## Problem Statement : To predict the score of a student based on the number of study hours.

### Importing Required Libraries

import numpy as np
import pandas as pd
import matplotlib.pyplot as plt
from sklearn.linear_model import LinearRegression
from sklearn.model_selection import train_test_split

### Importing and Displaying dataset

student_data = pd.read_csv("http://bit.ly/w-data")
student_data

### Knowing your dataset

student_data.info()#This will get all the information of dataset like index range,column datatype and non null count.

student_data.describe()#This will help us to known the various statistacial values of columns

### Visualizing the data

student_data.Hours.hist()#This will help us to known how hours values are spread

student_data.Scores.hist()#This will help us to known how Scores values are spread

#Plotting the hours vs scores graph to get more insight on a data.
plt.scatter(x=student_data.Hours, y=student_data.Scores, c='red')
plt.title('Hours Versus Scores')
plt.xlabel('Hours')
plt.ylabel('Scores')
plt.show()

### Spliting the dataset for training and testing the model

#Storing data columns into arrays for further process
x = student_data.iloc[:, 0].values
y = student_data.iloc[:, 1].values

#splitting takes place
x_train, x_test, y_train, y_test = train_test_split(x, y, test_size = 0.2)

print('X Training set', x_train)
print('X Test set', x_test)
print('Y Training set', y_train)
print('Y Test set', y_test)

### Training the model

#reshaping need to be done
x_train = x_train.reshape(-1,1)
x_train = x_train.reshape(-1,1)
x_test = x_test.reshape(-1,1)

#Using Linear Regression
lr = LinearRegression()
lr.fit(x_train,y_train)

### Visualization of training and test set

#for training set
plt.scatter(x = x_train, y = y_train, c='red')#plotting points
plt.plot(x_train, lr.predict(x_train), c='green')#plotting regression line
plt.title('Hours Versus Scores (Training Set)')
plt.xlabel('Hours')
plt.ylabel('Scores')
plt.show()

#for testing set
plt.scatter(x = x_test, y = y_test, c='red')#plotting points
plt.plot(x_train, lr.predict(x_train), c='green')#plotting regression line
plt.title('Hours Versus Scores (Testing Set)')
plt.xlabel('Hours')
plt.ylabel('Scores')
plt.show()

### Making Prediction

y_pred = lr.predict(x_test) # Predicting the scores
#Comparing Actual vs Predicted
df = pd.DataFrame({'Actual': y_test, 'Predicted': y_pred})  
df 

hours = np.array([9.25])
own_pred = lr.predict(hours.reshape(-1,1))
print("No of Hours = {}".format(hours))
print("Predicted Score = {}".format(own_pred[0]))

### Evaluating the model

from sklearn import metrics  
print('Mean Absolute Error:', 
      metrics.mean_absolute_error(y_test, y_pred)) 
